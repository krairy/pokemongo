{
 "cells": [
  {
   "cell_type": "markdown",
   "id": "78c2732d-4ff5-4eb1-8464-1ffe479bc950",
   "metadata": {},
   "source": [
    "# Is my poke good for PvP?"
   ]
  },
  {
   "cell_type": "markdown",
   "id": "0b9dbbbc-309f-457e-9911-609c0a0afdb7",
   "metadata": {},
   "source": [
    "This is the file to check if the Pokemon is of any use for PvP battles"
   ]
  },
  {
   "cell_type": "markdown",
   "id": "ccec057b-5b41-438c-9298-d1f3dd192644",
   "metadata": {},
   "source": [
    "## Simply run the cell below \n",
    "\n",
    "Disregard the warning - it is standard for any code"
   ]
  },
  {
   "cell_type": "code",
   "execution_count": 12,
   "id": "c082cbe7-a96c-4c7a-bc5d-1138668dd194",
   "metadata": {
    "jupyter": {
     "source_hidden": true
    },
    "tags": []
   },
   "outputs": [],
   "source": [
    "# function defenitions, library and database import\n",
    "\n",
    "import pandas as pd\n",
    "\n",
    "def rank(df, name):\n",
    "    try:\n",
    "        r = df.where(df['Pokemon']==name).dropna().index[0]\n",
    "        return r\n",
    "    except IndexError:\n",
    "        #print ('Poke note found. Please, try again')\n",
    "        return 999999\n",
    "    \n",
    "def results(name):\n",
    "    name=name.capitalize()\n",
    "    if name=='Nidoran':\n",
    "        print('fem')\n",
    "        name = 'Nidoran_fem'\n",
    "    cups = [GL_all, GL_remix, UL_all, UL_remix, ML_all, ML_classic, ML_classic_premier, little, halloween]\n",
    "    cups_names = ['GL', 'GL remix', 'UL', 'UL remix', 'ML', 'ML class', 'ML prem class', 'little cup', 'halloween']\n",
    "    dic = {cupname: cup for cupname, cup in zip(cups_names, cups)}\n",
    "    \n",
    "    summary = pd.DataFrame(columns=['Rank', 'Rank (Shadow)'], index=cups_names)\n",
    "\n",
    "    for cup_df, cup_name  in zip(cups, cups_names):\n",
    "        summary.loc[cup_name, 'Rank'] = rank(cup_df, name)\n",
    "        summary.loc[cup_name, 'Rank (Shadow)'] = rank(cup_df, name+' (Shadow)')\n",
    "    \n",
    "    if summary['Rank (Shadow)'].min()<summary['Rank'].min():\n",
    "        summary = summary[['Rank (Shadow)', 'Rank']].sort_values('Rank (Shadow)')\n",
    "    else:\n",
    "        summary = summary[['Rank', 'Rank (Shadow)']].sort_values('Rank')\n",
    "    \n",
    "    best_league = summary.index[0]\n",
    "        \n",
    "    if summary['Rank'].min() == 999999 and summary['Rank (Shadow)'].min() == 999999:\n",
    "        print ('This Pokemon does not appear in PvP')\n",
    "    else:\n",
    "        print (f'{name} performs best in {best_league}.\\nPoke summary for that league:')\n",
    "        print(dic[best_league].loc[rank(dic[best_league], name)])\n",
    "    \n",
    "    return summary\n",
    "\n",
    "####### Loading the datasets #######\n",
    "\n",
    "path = 'https://github.com/krairy/pokemongo/raw/main/ALL_rankings.xlsx'\n",
    "\n",
    "GL_all = pd.read_excel(path, header=0, sheet_name=1)\n",
    "GL_remix = pd.read_excel(path, header=0, sheet_name=2)\n",
    "UL_all = pd.read_excel(path, header=0, sheet_name=3)\n",
    "UL_remix = pd.read_excel(path, header=0, sheet_name=4)\n",
    "ML_all = pd.read_excel(path, header=0, sheet_name=5)\n",
    "ML_classic_premier = pd.read_excel(path, header=0, sheet_name=6)\n",
    "ML_classic = pd.read_excel(path, header=0, sheet_name=7)\n",
    "little = pd.read_excel(path, header=0, sheet_name=8)\n",
    "halloween = pd.read_excel(path, header=0, sheet_name=9)"
   ]
  },
  {
   "cell_type": "markdown",
   "id": "bf789b85-9643-44bc-995e-8c645de390aa",
   "metadata": {},
   "source": [
    "# Search the poke\n",
    "\n",
    "1. Run this cell\n",
    "2. Type the name of the Pokemon (English, no typos! Big or small letters (case-insensetive)\n",
    "3. Hit Enter\n",
    "\n",
    "\n",
    "We look for shadow version automatically"
   ]
  },
  {
   "cell_type": "code",
   "execution_count": 13,
   "id": "c30a58ff-4508-4c21-9257-5a8da9926060",
   "metadata": {
    "tags": []
   },
   "outputs": [
    {
     "name": "stdin",
     "output_type": "stream",
     "text": [
      " Rattata\n"
     ]
    },
    {
     "name": "stdout",
     "output_type": "stream",
     "text": [
      "Rattata performs best in little cup.\n",
      "Poke summary for that league:\n",
      "Pokemon                      Rattata\n",
      "Score                           73.1\n",
      "Type 1                        normal\n",
      "Type 2                          none\n",
      "Attack                          74.3\n",
      "Defense                         58.5\n",
      "Stamina                           77\n",
      "Stat Product                  334282\n",
      "Level                           26.5\n",
      "Fast Move               Quick Attack\n",
      "Charged Move 1             Body Slam\n",
      "Charged Move 2            Hyper Fang\n",
      "Charged Move 1 Count             5.0\n",
      "Charged Move 2 Count               8\n",
      "Buddy Distance                     1\n",
      "Charged Move Cost              10000\n",
      "Name: 252, dtype: object\n"
     ]
    },
    {
     "data": {
      "text/html": [
       "<div>\n",
       "<style scoped>\n",
       "    .dataframe tbody tr th:only-of-type {\n",
       "        vertical-align: middle;\n",
       "    }\n",
       "\n",
       "    .dataframe tbody tr th {\n",
       "        vertical-align: top;\n",
       "    }\n",
       "\n",
       "    .dataframe thead th {\n",
       "        text-align: right;\n",
       "    }\n",
       "</style>\n",
       "<table border=\"1\" class=\"dataframe\">\n",
       "  <thead>\n",
       "    <tr style=\"text-align: right;\">\n",
       "      <th></th>\n",
       "      <th>Rank</th>\n",
       "      <th>Rank (Shadow)</th>\n",
       "    </tr>\n",
       "  </thead>\n",
       "  <tbody>\n",
       "    <tr>\n",
       "      <th>little cup</th>\n",
       "      <td>252</td>\n",
       "      <td>257</td>\n",
       "    </tr>\n",
       "    <tr>\n",
       "      <th>GL</th>\n",
       "      <td>999999</td>\n",
       "      <td>999999</td>\n",
       "    </tr>\n",
       "    <tr>\n",
       "      <th>GL remix</th>\n",
       "      <td>999999</td>\n",
       "      <td>999999</td>\n",
       "    </tr>\n",
       "    <tr>\n",
       "      <th>UL</th>\n",
       "      <td>999999</td>\n",
       "      <td>999999</td>\n",
       "    </tr>\n",
       "    <tr>\n",
       "      <th>UL remix</th>\n",
       "      <td>999999</td>\n",
       "      <td>999999</td>\n",
       "    </tr>\n",
       "    <tr>\n",
       "      <th>ML</th>\n",
       "      <td>999999</td>\n",
       "      <td>999999</td>\n",
       "    </tr>\n",
       "    <tr>\n",
       "      <th>ML class</th>\n",
       "      <td>999999</td>\n",
       "      <td>999999</td>\n",
       "    </tr>\n",
       "    <tr>\n",
       "      <th>ML prem class</th>\n",
       "      <td>999999</td>\n",
       "      <td>999999</td>\n",
       "    </tr>\n",
       "    <tr>\n",
       "      <th>halloween</th>\n",
       "      <td>999999</td>\n",
       "      <td>999999</td>\n",
       "    </tr>\n",
       "  </tbody>\n",
       "</table>\n",
       "</div>"
      ],
      "text/plain": [
       "                 Rank Rank (Shadow)\n",
       "little cup        252           257\n",
       "GL             999999        999999\n",
       "GL remix       999999        999999\n",
       "UL             999999        999999\n",
       "UL remix       999999        999999\n",
       "ML             999999        999999\n",
       "ML class       999999        999999\n",
       "ML prem class  999999        999999\n",
       "halloween      999999        999999"
      ]
     },
     "execution_count": 13,
     "metadata": {},
     "output_type": "execute_result"
    }
   ],
   "source": [
    "name=input()\n",
    "out = results(name)\n",
    "out"
   ]
  }
 ],
 "metadata": {
  "kernelspec": {
   "display_name": "Python 3",
   "language": "python",
   "name": "python3"
  },
  "language_info": {
   "codemirror_mode": {
    "name": "ipython",
    "version": 3
   },
   "file_extension": ".py",
   "mimetype": "text/x-python",
   "name": "python",
   "nbconvert_exporter": "python",
   "pygments_lexer": "ipython3",
   "version": "3.8.8"
  }
 },
 "nbformat": 4,
 "nbformat_minor": 5
}
